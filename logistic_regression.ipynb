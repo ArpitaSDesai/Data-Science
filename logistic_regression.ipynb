{
 "cells": [
  {
   "cell_type": "code",
   "execution_count": 1,
   "id": "1ddba354",
   "metadata": {},
   "outputs": [],
   "source": [
    "import pandas as pd\n",
    "import numpy as np\n",
    "import seaborn as sns\n",
    "from matplotlib import pyplot as plt \n",
    "from sklearn.linear_model import LogisticRegression\n",
    "from sklearn import preprocessing\n",
    "from sklearn.model_selection import train_test_split\n",
    "from sklearn.metrics import classification_report, confusion_matrix,accuracy_score\n"
   ]
  },
  {
   "cell_type": "code",
   "execution_count": 44,
   "id": "33843ce1",
   "metadata": {},
   "outputs": [
    {
     "data": {
      "text/html": [
       "<div>\n",
       "<style scoped>\n",
       "    .dataframe tbody tr th:only-of-type {\n",
       "        vertical-align: middle;\n",
       "    }\n",
       "\n",
       "    .dataframe tbody tr th {\n",
       "        vertical-align: top;\n",
       "    }\n",
       "\n",
       "    .dataframe thead th {\n",
       "        text-align: right;\n",
       "    }\n",
       "</style>\n",
       "<table border=\"1\" class=\"dataframe\">\n",
       "  <thead>\n",
       "    <tr style=\"text-align: right;\">\n",
       "      <th></th>\n",
       "      <th>Sex</th>\n",
       "      <th>Age</th>\n",
       "      <th>Time_at_address</th>\n",
       "      <th>Res_status</th>\n",
       "      <th>Telephone</th>\n",
       "      <th>Occupation</th>\n",
       "      <th>Job_status</th>\n",
       "      <th>Time_employed</th>\n",
       "      <th>Time_bank</th>\n",
       "      <th>Liab_ref</th>\n",
       "      <th>Acc_ref</th>\n",
       "      <th>Home_Expn</th>\n",
       "      <th>Balance</th>\n",
       "      <th>Decision</th>\n",
       "    </tr>\n",
       "  </thead>\n",
       "  <tbody>\n",
       "    <tr>\n",
       "      <th>0</th>\n",
       "      <td>M</td>\n",
       "      <td>50.750000</td>\n",
       "      <td>0.585</td>\n",
       "      <td>owner</td>\n",
       "      <td>given</td>\n",
       "      <td>unemploye</td>\n",
       "      <td>unemploye</td>\n",
       "      <td>0</td>\n",
       "      <td>0</td>\n",
       "      <td>f</td>\n",
       "      <td>given</td>\n",
       "      <td>145</td>\n",
       "      <td>0</td>\n",
       "      <td>reject</td>\n",
       "    </tr>\n",
       "    <tr>\n",
       "      <th>1</th>\n",
       "      <td>M</td>\n",
       "      <td>19.670000</td>\n",
       "      <td>10.000</td>\n",
       "      <td>rent</td>\n",
       "      <td>not_given</td>\n",
       "      <td>labourer</td>\n",
       "      <td>governmen</td>\n",
       "      <td>0</td>\n",
       "      <td>0</td>\n",
       "      <td>t</td>\n",
       "      <td>given</td>\n",
       "      <td>140</td>\n",
       "      <td>0</td>\n",
       "      <td>reject</td>\n",
       "    </tr>\n",
       "    <tr>\n",
       "      <th>2</th>\n",
       "      <td>F</td>\n",
       "      <td>52.830002</td>\n",
       "      <td>15.000</td>\n",
       "      <td>owner</td>\n",
       "      <td>given</td>\n",
       "      <td>creative_</td>\n",
       "      <td>private_s</td>\n",
       "      <td>5</td>\n",
       "      <td>14</td>\n",
       "      <td>f</td>\n",
       "      <td>given</td>\n",
       "      <td>0</td>\n",
       "      <td>2200</td>\n",
       "      <td>accept</td>\n",
       "    </tr>\n",
       "    <tr>\n",
       "      <th>3</th>\n",
       "      <td>M</td>\n",
       "      <td>22.670000</td>\n",
       "      <td>2.540</td>\n",
       "      <td>rent</td>\n",
       "      <td>not_given</td>\n",
       "      <td>creative_</td>\n",
       "      <td>governmen</td>\n",
       "      <td>2</td>\n",
       "      <td>0</td>\n",
       "      <td>f</td>\n",
       "      <td>given</td>\n",
       "      <td>0</td>\n",
       "      <td>0</td>\n",
       "      <td>accept</td>\n",
       "    </tr>\n",
       "    <tr>\n",
       "      <th>4</th>\n",
       "      <td>M</td>\n",
       "      <td>29.250000</td>\n",
       "      <td>13.000</td>\n",
       "      <td>owner</td>\n",
       "      <td>given</td>\n",
       "      <td>driver</td>\n",
       "      <td>governmen</td>\n",
       "      <td>0</td>\n",
       "      <td>0</td>\n",
       "      <td>f</td>\n",
       "      <td>given</td>\n",
       "      <td>228</td>\n",
       "      <td>0</td>\n",
       "      <td>reject</td>\n",
       "    </tr>\n",
       "  </tbody>\n",
       "</table>\n",
       "</div>"
      ],
      "text/plain": [
       "  Sex        Age  Time_at_address Res_status  Telephone Occupation Job_status  \\\n",
       "0   M  50.750000            0.585      owner      given  unemploye  unemploye   \n",
       "1   M  19.670000           10.000       rent  not_given   labourer  governmen   \n",
       "2   F  52.830002           15.000      owner      given  creative_  private_s   \n",
       "3   M  22.670000            2.540       rent  not_given  creative_  governmen   \n",
       "4   M  29.250000           13.000      owner      given     driver  governmen   \n",
       "\n",
       "   Time_employed  Time_bank Liab_ref Acc_ref  Home_Expn  Balance Decision  \n",
       "0              0          0        f   given        145        0   reject  \n",
       "1              0          0        t   given        140        0   reject  \n",
       "2              5         14        f   given          0     2200   accept  \n",
       "3              2          0        f   given          0        0   accept  \n",
       "4              0          0        f   given        228        0   reject  "
      ]
     },
     "execution_count": 44,
     "metadata": {},
     "output_type": "execute_result"
    }
   ],
   "source": [
    "#reading the data\n",
    "df = pd.read_excel(r\"C:\\Users\\DELL\\Desktop\\Data Science\\Files\\loan.xlsx\")\n",
    "df.head()"
   ]
  },
  {
   "cell_type": "code",
   "execution_count": 45,
   "id": "6dd6d9f3",
   "metadata": {},
   "outputs": [],
   "source": [
    "#assigning x and y\n",
    "x = df.iloc[:,df.columns != 'Decision']\n",
    "y =df['Decision']"
   ]
  },
  {
   "cell_type": "code",
   "execution_count": 46,
   "id": "58d49425",
   "metadata": {},
   "outputs": [
    {
     "data": {
      "text/plain": [
       "(429, 13)"
      ]
     },
     "execution_count": 46,
     "metadata": {},
     "output_type": "execute_result"
    }
   ],
   "source": [
    "x.shape"
   ]
  },
  {
   "cell_type": "code",
   "execution_count": 47,
   "id": "5b7220cf",
   "metadata": {},
   "outputs": [
    {
     "data": {
      "text/plain": [
       "Index(['Sex', 'Age', 'Time_at_address', 'Res_status', 'Telephone',\n",
       "       'Occupation', 'Job_status', 'Time_employed', 'Time_bank', 'Liab_ref',\n",
       "       'Acc_ref', 'Home_Expn', 'Balance'],\n",
       "      dtype='object')"
      ]
     },
     "execution_count": 47,
     "metadata": {},
     "output_type": "execute_result"
    }
   ],
   "source": [
    "x.columns"
   ]
  },
  {
   "cell_type": "code",
   "execution_count": 48,
   "id": "2f83ddcf",
   "metadata": {},
   "outputs": [],
   "source": [
    "#processing the dataset\n",
    "le = preprocessing.LabelEncoder()"
   ]
  },
  {
   "cell_type": "code",
   "execution_count": 49,
   "id": "a83c4096",
   "metadata": {},
   "outputs": [
    {
     "data": {
      "text/html": [
       "<div>\n",
       "<style scoped>\n",
       "    .dataframe tbody tr th:only-of-type {\n",
       "        vertical-align: middle;\n",
       "    }\n",
       "\n",
       "    .dataframe tbody tr th {\n",
       "        vertical-align: top;\n",
       "    }\n",
       "\n",
       "    .dataframe thead th {\n",
       "        text-align: right;\n",
       "    }\n",
       "</style>\n",
       "<table border=\"1\" class=\"dataframe\">\n",
       "  <thead>\n",
       "    <tr style=\"text-align: right;\">\n",
       "      <th></th>\n",
       "      <th>Sex</th>\n",
       "      <th>Age</th>\n",
       "      <th>Time_at_address</th>\n",
       "      <th>Res_status</th>\n",
       "      <th>Telephone</th>\n",
       "      <th>Occupation</th>\n",
       "      <th>Job_status</th>\n",
       "      <th>Time_employed</th>\n",
       "      <th>Time_bank</th>\n",
       "      <th>Liab_ref</th>\n",
       "      <th>Acc_ref</th>\n",
       "      <th>Home_Expn</th>\n",
       "      <th>Balance</th>\n",
       "    </tr>\n",
       "  </thead>\n",
       "  <tbody>\n",
       "    <tr>\n",
       "      <th>0</th>\n",
       "      <td>1</td>\n",
       "      <td>242</td>\n",
       "      <td>17</td>\n",
       "      <td>0</td>\n",
       "      <td>0</td>\n",
       "      <td>11</td>\n",
       "      <td>6</td>\n",
       "      <td>0</td>\n",
       "      <td>0</td>\n",
       "      <td>0</td>\n",
       "      <td>0</td>\n",
       "      <td>37</td>\n",
       "      <td>0</td>\n",
       "    </tr>\n",
       "    <tr>\n",
       "      <th>1</th>\n",
       "      <td>1</td>\n",
       "      <td>31</td>\n",
       "      <td>130</td>\n",
       "      <td>1</td>\n",
       "      <td>1</td>\n",
       "      <td>4</td>\n",
       "      <td>0</td>\n",
       "      <td>0</td>\n",
       "      <td>0</td>\n",
       "      <td>1</td>\n",
       "      <td>0</td>\n",
       "      <td>34</td>\n",
       "      <td>0</td>\n",
       "    </tr>\n",
       "    <tr>\n",
       "      <th>2</th>\n",
       "      <td>0</td>\n",
       "      <td>248</td>\n",
       "      <td>162</td>\n",
       "      <td>0</td>\n",
       "      <td>0</td>\n",
       "      <td>0</td>\n",
       "      <td>2</td>\n",
       "      <td>5</td>\n",
       "      <td>13</td>\n",
       "      <td>0</td>\n",
       "      <td>0</td>\n",
       "      <td>0</td>\n",
       "      <td>136</td>\n",
       "    </tr>\n",
       "    <tr>\n",
       "      <th>3</th>\n",
       "      <td>1</td>\n",
       "      <td>59</td>\n",
       "      <td>61</td>\n",
       "      <td>1</td>\n",
       "      <td>1</td>\n",
       "      <td>0</td>\n",
       "      <td>0</td>\n",
       "      <td>2</td>\n",
       "      <td>0</td>\n",
       "      <td>0</td>\n",
       "      <td>0</td>\n",
       "      <td>0</td>\n",
       "      <td>0</td>\n",
       "    </tr>\n",
       "    <tr>\n",
       "      <th>4</th>\n",
       "      <td>1</td>\n",
       "      <td>119</td>\n",
       "      <td>154</td>\n",
       "      <td>0</td>\n",
       "      <td>0</td>\n",
       "      <td>1</td>\n",
       "      <td>0</td>\n",
       "      <td>0</td>\n",
       "      <td>0</td>\n",
       "      <td>0</td>\n",
       "      <td>0</td>\n",
       "      <td>63</td>\n",
       "      <td>0</td>\n",
       "    </tr>\n",
       "  </tbody>\n",
       "</table>\n",
       "</div>"
      ],
      "text/plain": [
       "   Sex  Age  Time_at_address  Res_status  Telephone  Occupation  Job_status  \\\n",
       "0    1  242               17           0          0          11           6   \n",
       "1    1   31              130           1          1           4           0   \n",
       "2    0  248              162           0          0           0           2   \n",
       "3    1   59               61           1          1           0           0   \n",
       "4    1  119              154           0          0           1           0   \n",
       "\n",
       "   Time_employed  Time_bank  Liab_ref  Acc_ref  Home_Expn  Balance  \n",
       "0              0          0         0        0         37        0  \n",
       "1              0          0         1        0         34        0  \n",
       "2              5         13         0        0          0      136  \n",
       "3              2          0         0        0          0        0  \n",
       "4              0          0         0        0         63        0  "
      ]
     },
     "execution_count": 49,
     "metadata": {},
     "output_type": "execute_result"
    }
   ],
   "source": [
    "X = x.apply(le.fit_transform)\n",
    "X.head()"
   ]
  },
  {
   "cell_type": "code",
   "execution_count": 50,
   "id": "d97380c8",
   "metadata": {},
   "outputs": [
    {
     "data": {
      "text/plain": [
       "(429, 812)"
      ]
     },
     "execution_count": 50,
     "metadata": {},
     "output_type": "execute_result"
    }
   ],
   "source": [
    "#OneHotEncoder\n",
    "enc = preprocessing.OneHotEncoder()\n",
    "\n",
    "#fit\n",
    "enc.fit(X)\n",
    "\n",
    "# transform\n",
    "onehotlabels = enc.transform(X).toarray()\n",
    "onehotlabels.shape"
   ]
  },
  {
   "cell_type": "code",
   "execution_count": 51,
   "id": "44cc0c3d",
   "metadata": {},
   "outputs": [
    {
     "data": {
      "text/plain": [
       "array([[0., 1., 0., ..., 0., 0., 0.],\n",
       "       [0., 1., 0., ..., 0., 0., 0.],\n",
       "       [1., 0., 0., ..., 0., 0., 0.],\n",
       "       ...,\n",
       "       [0., 1., 0., ..., 0., 0., 0.],\n",
       "       [0., 1., 0., ..., 0., 0., 0.],\n",
       "       [0., 1., 0., ..., 0., 0., 0.]])"
      ]
     },
     "execution_count": 51,
     "metadata": {},
     "output_type": "execute_result"
    }
   ],
   "source": [
    "onehotlabels"
   ]
  },
  {
   "cell_type": "code",
   "execution_count": 52,
   "id": "37f25dca",
   "metadata": {},
   "outputs": [
    {
     "data": {
      "text/plain": [
       "Sex                0\n",
       "Age                0\n",
       "Time_at_address    0\n",
       "Res_status         0\n",
       "Telephone          0\n",
       "Occupation         0\n",
       "Job_status         0\n",
       "Time_employed      0\n",
       "Time_bank          0\n",
       "Liab_ref           0\n",
       "Acc_ref            0\n",
       "Home_Expn          0\n",
       "Balance            0\n",
       "Decision           0\n",
       "dtype: int64"
      ]
     },
     "execution_count": 52,
     "metadata": {},
     "output_type": "execute_result"
    }
   ],
   "source": [
    "#checking for missing value\n",
    "df.isnull().sum()"
   ]
  },
  {
   "cell_type": "code",
   "execution_count": 53,
   "id": "f7bfd3bf",
   "metadata": {},
   "outputs": [
    {
     "data": {
      "text/plain": [
       "(429, 14)"
      ]
     },
     "execution_count": 53,
     "metadata": {},
     "output_type": "execute_result"
    }
   ],
   "source": [
    "df.shape"
   ]
  },
  {
   "cell_type": "code",
   "execution_count": 54,
   "id": "ae4aeec3",
   "metadata": {},
   "outputs": [
    {
     "data": {
      "text/plain": [
       "(429, 13)"
      ]
     },
     "execution_count": 54,
     "metadata": {},
     "output_type": "execute_result"
    }
   ],
   "source": [
    "df = df.drop(['Sex'],axis=1)\n",
    "df.shape"
   ]
  },
  {
   "cell_type": "code",
   "execution_count": 55,
   "id": "abd86cb1",
   "metadata": {},
   "outputs": [
    {
     "data": {
      "text/plain": [
       "(429, 12)"
      ]
     },
     "execution_count": 55,
     "metadata": {},
     "output_type": "execute_result"
    }
   ],
   "source": [
    "df=df.drop(['Telephone'],axis=1)\n",
    "df.shape"
   ]
  },
  {
   "cell_type": "code",
   "execution_count": 60,
   "id": "4226d0e7",
   "metadata": {},
   "outputs": [],
   "source": [
    "X_train, X_test, Y_train, Y_test = train_test_split(onehotlabels,y, random_state=0)"
   ]
  },
  {
   "cell_type": "code",
   "execution_count": 64,
   "id": "d47d2be8",
   "metadata": {},
   "outputs": [],
   "source": [
    "model = LogisticRegression(solver='lbfgs',random_state=0)"
   ]
  },
  {
   "cell_type": "code",
   "execution_count": 65,
   "id": "dd36aec6",
   "metadata": {},
   "outputs": [
    {
     "data": {
      "text/plain": [
       "LogisticRegression(random_state=0)"
      ]
     },
     "execution_count": 65,
     "metadata": {},
     "output_type": "execute_result"
    }
   ],
   "source": [
    "model.fit(X_train, Y_train)"
   ]
  },
  {
   "cell_type": "code",
   "execution_count": 67,
   "id": "d66f836e",
   "metadata": {},
   "outputs": [
    {
     "data": {
      "text/plain": [
       "array(['reject', 'reject', 'accept', 'accept', 'reject', 'reject',\n",
       "       'accept', 'accept', 'reject', 'reject', 'accept', 'reject',\n",
       "       'reject', 'accept', 'accept', 'reject', 'accept', 'reject',\n",
       "       'reject', 'accept', 'accept', 'reject', 'accept', 'reject',\n",
       "       'accept', 'reject', 'reject', 'accept', 'accept', 'reject',\n",
       "       'reject', 'reject', 'accept', 'accept', 'reject', 'reject',\n",
       "       'reject', 'reject', 'reject', 'accept', 'reject', 'reject',\n",
       "       'reject', 'reject', 'reject', 'reject', 'accept', 'reject',\n",
       "       'reject', 'reject', 'reject', 'accept', 'accept', 'accept',\n",
       "       'reject', 'reject', 'reject', 'reject', 'accept', 'reject',\n",
       "       'reject', 'accept', 'accept', 'accept', 'reject', 'accept',\n",
       "       'reject', 'accept', 'reject', 'accept', 'accept', 'reject',\n",
       "       'reject', 'reject', 'reject', 'reject', 'reject', 'accept',\n",
       "       'accept', 'accept', 'reject', 'accept', 'reject', 'reject',\n",
       "       'reject', 'accept', 'accept', 'accept', 'reject', 'reject',\n",
       "       'reject', 'accept', 'reject', 'reject', 'reject', 'accept',\n",
       "       'reject', 'accept', 'accept', 'accept', 'accept', 'accept',\n",
       "       'reject', 'accept', 'accept', 'accept', 'reject', 'reject',\n",
       "       'reject', 'reject', 'accept', 'reject', 'reject', 'reject',\n",
       "       'reject', 'reject', 'reject', 'accept', 'reject', 'reject',\n",
       "       'accept', 'reject', 'reject', 'accept', 'reject', 'reject',\n",
       "       'reject', 'accept', 'reject', 'accept', 'reject', 'accept',\n",
       "       'reject', 'accept', 'accept', 'reject', 'accept', 'reject',\n",
       "       'reject', 'accept', 'accept', 'accept', 'accept', 'reject',\n",
       "       'reject', 'reject', 'reject', 'reject', 'accept', 'reject',\n",
       "       'accept', 'reject', 'accept', 'accept', 'accept', 'accept',\n",
       "       'reject', 'reject', 'reject', 'reject', 'reject', 'accept',\n",
       "       'accept', 'accept', 'reject', 'reject', 'accept', 'reject',\n",
       "       'reject', 'reject', 'reject', 'accept', 'accept', 'accept',\n",
       "       'accept', 'accept', 'accept', 'reject', 'reject', 'reject',\n",
       "       'accept', 'accept', 'accept', 'reject', 'accept', 'reject',\n",
       "       'reject', 'accept', 'reject', 'accept', 'reject', 'reject',\n",
       "       'reject', 'reject', 'accept', 'accept', 'reject', 'accept',\n",
       "       'reject', 'accept', 'reject', 'reject', 'accept', 'accept',\n",
       "       'accept', 'reject', 'reject', 'accept', 'accept', 'reject',\n",
       "       'reject', 'reject', 'reject', 'reject', 'accept', 'reject',\n",
       "       'reject', 'reject', 'accept', 'reject', 'accept', 'reject',\n",
       "       'reject', 'reject', 'accept', 'reject', 'accept', 'reject',\n",
       "       'accept', 'reject', 'accept', 'accept', 'accept', 'accept',\n",
       "       'accept', 'reject', 'accept', 'accept', 'reject', 'accept',\n",
       "       'reject', 'accept', 'reject', 'reject', 'reject', 'accept',\n",
       "       'accept', 'accept', 'reject', 'reject', 'accept', 'accept',\n",
       "       'accept', 'accept', 'accept', 'accept', 'accept', 'accept',\n",
       "       'accept', 'reject', 'accept', 'reject', 'reject', 'reject',\n",
       "       'reject', 'accept', 'reject', 'reject', 'reject', 'accept',\n",
       "       'reject', 'reject', 'reject', 'accept', 'reject', 'accept',\n",
       "       'reject', 'reject', 'reject', 'accept', 'reject', 'reject',\n",
       "       'accept', 'accept', 'reject', 'reject', 'accept', 'accept',\n",
       "       'reject', 'accept', 'accept', 'accept', 'accept', 'reject',\n",
       "       'reject', 'reject', 'accept', 'accept', 'reject', 'reject',\n",
       "       'reject', 'reject', 'reject', 'reject', 'reject', 'accept',\n",
       "       'accept', 'reject', 'reject', 'reject', 'reject', 'reject',\n",
       "       'accept', 'reject', 'reject', 'reject', 'reject', 'reject',\n",
       "       'accept', 'reject', 'accept', 'reject', 'reject', 'reject',\n",
       "       'accept', 'reject', 'reject', 'accept', 'reject', 'accept',\n",
       "       'reject', 'accept', 'reject', 'reject', 'accept', 'reject',\n",
       "       'reject', 'reject', 'accept', 'reject', 'reject', 'reject',\n",
       "       'reject', 'reject', 'accept', 'accept', 'reject', 'reject',\n",
       "       'reject', 'accept', 'reject', 'reject', 'accept', 'reject',\n",
       "       'accept', 'reject', 'accept', 'accept', 'reject', 'reject',\n",
       "       'accept', 'accept', 'accept', 'reject', 'reject', 'reject',\n",
       "       'accept', 'reject', 'reject', 'accept', 'reject', 'accept',\n",
       "       'reject', 'reject', 'reject', 'accept', 'accept', 'reject',\n",
       "       'reject', 'reject', 'accept', 'accept', 'accept', 'reject',\n",
       "       'reject', 'reject', 'reject', 'reject', 'reject', 'reject',\n",
       "       'reject', 'accept', 'accept', 'reject', 'accept', 'reject',\n",
       "       'reject', 'reject', 'reject', 'accept', 'reject', 'accept',\n",
       "       'reject', 'reject', 'accept', 'accept', 'reject', 'accept',\n",
       "       'accept', 'reject', 'reject', 'reject', 'accept', 'reject',\n",
       "       'reject', 'reject', 'reject', 'reject', 'reject', 'reject',\n",
       "       'reject', 'reject', 'accept', 'reject', 'reject', 'reject',\n",
       "       'accept', 'accept', 'reject'], dtype=object)"
      ]
     },
     "execution_count": 67,
     "metadata": {},
     "output_type": "execute_result"
    }
   ],
   "source": [
    "p_value = model.predict(onehotlabels)\n",
    "p_value"
   ]
  },
  {
   "cell_type": "code",
   "execution_count": 68,
   "id": "683a0a12",
   "metadata": {},
   "outputs": [
    {
     "data": {
      "text/html": [
       "<div>\n",
       "<style scoped>\n",
       "    .dataframe tbody tr th:only-of-type {\n",
       "        vertical-align: middle;\n",
       "    }\n",
       "\n",
       "    .dataframe tbody tr th {\n",
       "        vertical-align: top;\n",
       "    }\n",
       "\n",
       "    .dataframe thead th {\n",
       "        text-align: right;\n",
       "    }\n",
       "</style>\n",
       "<table border=\"1\" class=\"dataframe\">\n",
       "  <thead>\n",
       "    <tr style=\"text-align: right;\">\n",
       "      <th></th>\n",
       "      <th>Age</th>\n",
       "      <th>Time_at_address</th>\n",
       "      <th>Time_employed</th>\n",
       "      <th>Time_bank</th>\n",
       "      <th>Home_Expn</th>\n",
       "      <th>Balance</th>\n",
       "    </tr>\n",
       "  </thead>\n",
       "  <tbody>\n",
       "    <tr>\n",
       "      <th>Age</th>\n",
       "      <td>1.000000</td>\n",
       "      <td>0.217342</td>\n",
       "      <td>0.426890</td>\n",
       "      <td>0.208736</td>\n",
       "      <td>-0.072254</td>\n",
       "      <td>0.101819</td>\n",
       "    </tr>\n",
       "    <tr>\n",
       "      <th>Time_at_address</th>\n",
       "      <td>0.217342</td>\n",
       "      <td>1.000000</td>\n",
       "      <td>0.278849</td>\n",
       "      <td>0.202083</td>\n",
       "      <td>-0.267470</td>\n",
       "      <td>0.072235</td>\n",
       "    </tr>\n",
       "    <tr>\n",
       "      <th>Time_employed</th>\n",
       "      <td>0.426890</td>\n",
       "      <td>0.278849</td>\n",
       "      <td>1.000000</td>\n",
       "      <td>0.291542</td>\n",
       "      <td>-0.110933</td>\n",
       "      <td>0.112719</td>\n",
       "    </tr>\n",
       "    <tr>\n",
       "      <th>Time_bank</th>\n",
       "      <td>0.208736</td>\n",
       "      <td>0.202083</td>\n",
       "      <td>0.291542</td>\n",
       "      <td>1.000000</td>\n",
       "      <td>-0.111761</td>\n",
       "      <td>0.153435</td>\n",
       "    </tr>\n",
       "    <tr>\n",
       "      <th>Home_Expn</th>\n",
       "      <td>-0.072254</td>\n",
       "      <td>-0.267470</td>\n",
       "      <td>-0.110933</td>\n",
       "      <td>-0.111761</td>\n",
       "      <td>1.000000</td>\n",
       "      <td>0.080366</td>\n",
       "    </tr>\n",
       "    <tr>\n",
       "      <th>Balance</th>\n",
       "      <td>0.101819</td>\n",
       "      <td>0.072235</td>\n",
       "      <td>0.112719</td>\n",
       "      <td>0.153435</td>\n",
       "      <td>0.080366</td>\n",
       "      <td>1.000000</td>\n",
       "    </tr>\n",
       "  </tbody>\n",
       "</table>\n",
       "</div>"
      ],
      "text/plain": [
       "                      Age  Time_at_address  Time_employed  Time_bank  \\\n",
       "Age              1.000000         0.217342       0.426890   0.208736   \n",
       "Time_at_address  0.217342         1.000000       0.278849   0.202083   \n",
       "Time_employed    0.426890         0.278849       1.000000   0.291542   \n",
       "Time_bank        0.208736         0.202083       0.291542   1.000000   \n",
       "Home_Expn       -0.072254        -0.267470      -0.110933  -0.111761   \n",
       "Balance          0.101819         0.072235       0.112719   0.153435   \n",
       "\n",
       "                 Home_Expn   Balance  \n",
       "Age              -0.072254  0.101819  \n",
       "Time_at_address  -0.267470  0.072235  \n",
       "Time_employed    -0.110933  0.112719  \n",
       "Time_bank        -0.111761  0.153435  \n",
       "Home_Expn         1.000000  0.080366  \n",
       "Balance           0.080366  1.000000  "
      ]
     },
     "execution_count": 68,
     "metadata": {},
     "output_type": "execute_result"
    }
   ],
   "source": [
    "corr = df.corr()\n",
    "corr"
   ]
  },
  {
   "cell_type": "code",
   "execution_count": 69,
   "id": "46bdbae4",
   "metadata": {},
   "outputs": [
    {
     "data": {
      "text/plain": [
       "0.9067599067599068"
      ]
     },
     "execution_count": 69,
     "metadata": {},
     "output_type": "execute_result"
    }
   ],
   "source": [
    "r_sq = model.score(onehotlabels, y)\n",
    "r_sq"
   ]
  },
  {
   "cell_type": "code",
   "execution_count": 85,
   "id": "eb8c3821",
   "metadata": {},
   "outputs": [
    {
     "data": {
      "text/plain": [
       "[<matplotlib.lines.Line2D at 0x2cd29eb2fd0>,\n",
       " <matplotlib.lines.Line2D at 0x2cd29ecb130>,\n",
       " <matplotlib.lines.Line2D at 0x2cd29ecb1f0>,\n",
       " <matplotlib.lines.Line2D at 0x2cd29ecb310>,\n",
       " <matplotlib.lines.Line2D at 0x2cd29ecb430>,\n",
       " <matplotlib.lines.Line2D at 0x2cd29ecb550>]"
      ]
     },
     "execution_count": 85,
     "metadata": {},
     "output_type": "execute_result"
    },
    {
     "data": {
      "image/png": "[encoded data removed]",
      "text/plain": [
       "<Figure size 432x288 with 1 Axes>"
      ]
     },
     "metadata": {
      "needs_background": "light"
     },
     "output_type": "display_data"
    }
   ],
   "source": [
    "plt.plot(corr)\n"
   ]
  },
  {
   "cell_type": "code",
   "execution_count": 87,
   "id": "74e0d32c",
   "metadata": {},
   "outputs": [
    {
     "data": {
      "image/png": "[encoded data removed]",
      "text/plain": [
       "<Figure size 288x288 with 1 Axes>"
      ]
     },
     "metadata": {
      "needs_background": "light"
     },
     "output_type": "display_data"
    }
   ],
   "source": [
    "plt.matshow(corr)\n",
    "plt.show()"
   ]
  },
  {
   "cell_type": "code",
   "execution_count": null,
   "id": "9207b9af",
   "metadata": {},
   "outputs": [],
   "source": []
  }
 ],
 "metadata": {
  "kernelspec": {
   "display_name": "Python 3 (ipykernel)",
   "language": "python",
   "name": "python3"
  },
  "language_info": {
   "codemirror_mode": {
    "name": "ipython",
    "version": 3
   },
   "file_extension": ".py",
   "mimetype": "text/x-python",
   "name": "python",
   "nbconvert_exporter": "python",
   "pygments_lexer": "ipython3",
   "version": "3.9.12"
  }
 },
 "nbformat": 4,
 "nbformat_minor": 5
}
